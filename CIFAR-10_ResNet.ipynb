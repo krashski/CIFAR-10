{
 "cells": [
  {
   "cell_type": "markdown",
   "metadata": {},
   "source": [
    "# Image Classification with CIFAR-10 and ResNet\n",
    "\n",
    "[CIFAR-10](https://www.cs.toronto.edu/~kriz/cifar.html) is a standard benchmark dataset for image classification in the computer vision and machine learning literature. CIFAR-10 consists of 60,000 32x32 colour images from 10 mutually-exclusive classes: airplanes, automobiles, birds, cats, deer, dogs, frogs, horses, ships, and trucks. Each class is evenly represented with 6,000 images per class. When training and evaluating a machine learning model on CIFAR-10, common practice is to use the training/test data splits as predefined by authors Alex Krizhevsky, Vinod Nair, and Geoffrey Hinton: 50,000 images for training and 10,000 for testing.\n",
    "\n",
    "Here are 10 random images from each class in the dataset:\n",
    "\n",
    "<img src=\"images/cifar.jpg\">\n",
    "\n",
    "(Image credit: https://www.cs.toronto.edu/~kriz/cifar.html)\n",
    "\n",
    "CIFAR-10 is regularly used to benchmark new CNN architectures. As we will see, CIFAR-10 is _much_ harder than the handwritten digit [MNIST](http://yann.lecun.com/exdb/mnist/) dataset, where a Convolutional Neural Network (CNN) can achieve 99.7% accuracy (below is my own personal best score on the [Kaggle MNIST competition](https://www.kaggle.com/c/digit-recognizer)): \n",
    "\n",
    "<img src=\"images/mnist.jpg\">\n",
    "(Image supplied by author)\n",
    "\n",
    "Let's begin by loading the Python libraries that we will need."
   ]
  },
  {
   "cell_type": "code",
   "execution_count": 1,
   "metadata": {},
   "outputs": [
    {
     "name": "stderr",
     "output_type": "stream",
     "text": [
      "Using TensorFlow backend.\n"
     ]
    }
   ],
   "source": [
    "%matplotlib inline\n",
    "\n",
    "import matplotlib.pyplot as plt\n",
    "import numpy as np\n",
    "from datetime import datetime\n",
    "from keras.datasets import cifar10\n",
    "from keras.preprocessing.image import ImageDataGenerator\n",
    "from keras.layers.normalization import BatchNormalization\n",
    "from keras.callbacks import LearningRateScheduler\n",
    "from keras.layers.convolutional import Conv2D, AveragePooling2D, MaxPooling2D, ZeroPadding2D\n",
    "from keras import backend as K\n",
    "from keras.layers.core import Activation, Dense\n",
    "from keras.layers import Flatten, Input, add\n",
    "from keras.models import Model, load_model\n",
    "from keras.regularizers import l2\n",
    "from keras.utils import np_utils\n",
    "from keras.optimizers import SGD"
   ]
  },
  {
   "cell_type": "markdown",
   "metadata": {},
   "source": [
    "Next, load the CIFAR-10 data using a helper function from the Keras library and confirm the data load."
   ]
  },
  {
   "cell_type": "code",
   "execution_count": 2,
   "metadata": {},
   "outputs": [
    {
     "name": "stdout",
     "output_type": "stream",
     "text": [
      "Training data has 50000 records, shape is (32, 32, 3)\n",
      "Test data has 10000 records, shape is (32, 32, 3)\n"
     ]
    }
   ],
   "source": [
    "# load data\n",
    "(X_train, y_train), (X_test, y_test) = cifar10.load_data()\n",
    "\n",
    "# confirm data load\n",
    "print('Training data has {} records, shape is ({}, {}, {})'.format(X_train.shape[0], X_train.shape[1], \\\n",
    "                                                      X_train.shape[2], X_train.shape[3]))\n",
    "print('Test data has {} records, shape is ({}, {}, {})'.format(X_test.shape[0], X_test.shape[1], \\\n",
    "                                                      X_test.shape[2], X_test.shape[3]))"
   ]
  },
  {
   "cell_type": "markdown",
   "metadata": {},
   "source": [
    "Before we start training our model, we need to prepare the data:\n",
    "- convert data type to float\n",
    "- apply mean subtraction\n",
    "- one-hot encode the target variable\n",
    "\n",
    "We will also define a data augmentation process to help reduce overfitting."
   ]
  },
  {
   "cell_type": "code",
   "execution_count": 3,
   "metadata": {},
   "outputs": [],
   "source": [
    "# convert data type to float\n",
    "X_train = X_train.astype('float')\n",
    "X_test = X_test.astype('float')\n",
    "\n",
    "# apply mean subtraction to the data\n",
    "mean = np.mean(X_train, axis=0)\n",
    "X_train -= mean\n",
    "X_test -= mean\n",
    "\n",
    "# one-hot encode outputs\n",
    "n_classes = 10\n",
    "y_train = np_utils.to_categorical(y_train, n_classes)\n",
    "y_test = np_utils.to_categorical(y_test, n_classes)\n",
    "\n",
    "# data augmentation\n",
    "aug = ImageDataGenerator(rotation_range=10, \n",
    "                         width_shift_range=0.1,\n",
    "                         height_shift_range=0.1, \n",
    "                         shear_range=0.1, \n",
    "                         zoom_range=0.1,\n",
    "                         horizontal_flip=True, \n",
    "                         fill_mode='nearest')\n",
    "\n",
    "# fix random seed for reproducibility\n",
    "seed = 42\n",
    "np.random.seed(seed)"
   ]
  },
  {
   "cell_type": "markdown",
   "metadata": {},
   "source": [
    "### ResNet\n",
    "\n",
    "The ResNet architecture was introduced in the 2015 paper [Deep Residual Learning for Image Recognition](https://arxiv.org/pdf/1512.03385.pdf) by Kaiming He, Xiangyu Zhang, Shaoqing Ren, and Jian Sun at Microsoft Research. In their seminal paper, He _et al._ showed that by using a network architecture consisting of stacked residual modules, it is possible to train extremely deep networks (in some cases over 1000 layers!) using standard stochastic gradient descent (SGD) and a suitable initialization function. \n",
    "\n",
    "In this notebook, we will implement an updated version of ResNet as per the 2016 He _et al._ paper [Identity Mappings in Deep Residual Networks](https://arxiv.org/pdf/1603.05027.pdf), which includes bottlenecks and pre-activations (see the module at the far right):\n",
    "\n",
    "<img src=\"images/residual_module.jpg\">\n",
    "(Image credit: https://arxiv.org/pdf/1603.05027.pdf)\n",
    "\n",
    "\"The takeaway is that you should not be using smaller networks because you are afraid of overfitting. Instead, you should use as big of a neural network as your computational budget allows, and use other regularization techniques to control overfitting.\" <br>~ [Stanford CS231n: Convolutional Neural Networks for Visual Recognition](https://cs231n.github.io/neural-networks-1/#nn) \n",
    "\n",
    "So let's define the residual module and build functions to create our ResNet architecture."
   ]
  },
  {
   "cell_type": "code",
   "execution_count": 4,
   "metadata": {},
   "outputs": [],
   "source": [
    "# define ResNet functions\n",
    "# hat tip: https://www.pyimagesearch.com/deep-learning-computer-vision-python-book/\n",
    "class ResNet:\n",
    "    @staticmethod\n",
    "    def residual_module(data, K, stride, chanDim, red=False, reg=0.0001, bnEps=2e-5, bnMom=0.9):\n",
    "        # the shortcut branch of the module should be initialized as the input (identity) data\n",
    "        shortcut = data\n",
    "\n",
    "        # the first block is a set of 1x1 CONVs\n",
    "        bn1 = BatchNormalization(axis=chanDim, epsilon=bnEps, momentum=bnMom)(data)\n",
    "        act1 = Activation('relu')(bn1)\n",
    "        conv1 = Conv2D(int(K * 0.25), (1, 1), use_bias=False, kernel_regularizer=l2(reg))(act1)\n",
    "\n",
    "        # the second block is a set of 3x3 CONVs\n",
    "        bn2 = BatchNormalization(axis=chanDim, epsilon=bnEps, momentum=bnMom)(conv1)\n",
    "        act2 = Activation('relu')(bn2)\n",
    "        conv2 = Conv2D(int(K * 0.25), (3, 3), strides=stride, padding='same', use_bias=False,\n",
    "            kernel_regularizer=l2(reg))(act2)\n",
    "\n",
    "        # the third block is another set of 1x1 CONVs\n",
    "        bn3 = BatchNormalization(axis=chanDim, epsilon=bnEps, momentum=bnMom)(conv2)\n",
    "        act3 = Activation('relu')(bn3)\n",
    "        conv3 = Conv2D(K, (1, 1), use_bias=False, kernel_regularizer=l2(reg))(act3)\n",
    "\n",
    "        # if we choose to reduce the spatial size, apply a CONV layer to the shortcut\n",
    "        if red:\n",
    "            shortcut = Conv2D(K, (1, 1), strides=stride, use_bias=False, kernel_regularizer=l2(reg))(act1)\n",
    "\n",
    "        # add the shortcut and the final CONV block together\n",
    "        x = add([conv3, shortcut])\n",
    "\n",
    "        # return the output of the ResNet module\n",
    "        return x\n",
    "\n",
    "    @staticmethod\n",
    "    def build(width, height, depth, classes, stages, filters, reg=0.0001, bnEps=2e-5, bnMom=0.9):\n",
    "        # initialize the input shape and the channels dimension to be channels last\n",
    "        inputShape = (height, width, depth)\n",
    "        chanDim = -1\n",
    "\n",
    "        # if we are using channels first, update the input shape and channels dimension\n",
    "        if K.image_data_format() == 'channels_first':\n",
    "            inputShape = (depth, height, width)\n",
    "            chanDim = 1\n",
    "\n",
    "        # set the input and apply BN\n",
    "        inputs = Input(shape=inputShape)\n",
    "        x = BatchNormalization(axis=chanDim, epsilon=bnEps, momentum=bnMom)(inputs)\n",
    "        # apply a single CONV layer\n",
    "        x = Conv2D(filters[0], (3, 3), use_bias=False, padding='same', kernel_regularizer=l2(reg))(x)\n",
    "\n",
    "        # loop over the number of stages\n",
    "        for i in range(0, len(stages)):\n",
    "            # initialize the stride, then apply a residual module to reduce the spatial size of the input volume\n",
    "            stride = (1, 1) if i == 0 else (2, 2)\n",
    "            x = ResNet.residual_module(x, filters[i + 1], stride, chanDim, red=True, bnEps=bnEps, bnMom=bnMom)\n",
    "\n",
    "            # loop over the number of layers in the stage\n",
    "            for j in range(0, stages[i] - 1):\n",
    "                # apply a ResNet module\n",
    "                x = ResNet.residual_module(x, filters[i + 1], (1, 1), chanDim, bnEps=bnEps, bnMom=bnMom)\n",
    "\n",
    "        # apply BN => ACT => POOL\n",
    "        x = BatchNormalization(axis=chanDim, epsilon=bnEps, momentum=bnMom)(x)\n",
    "        x = Activation('relu')(x)\n",
    "        x = AveragePooling2D((8, 8))(x)\n",
    "\n",
    "        # softmax classifier\n",
    "        x = Flatten()(x)\n",
    "        x = Dense(classes, kernel_regularizer=l2(reg))(x)\n",
    "        x = Activation('softmax')(x)\n",
    "\n",
    "        # create the model\n",
    "        model = Model(inputs, x, name='resnet')\n",
    "\n",
    "        # return the constructed network architecture\n",
    "        return model"
   ]
  },
  {
   "cell_type": "markdown",
   "metadata": {},
   "source": [
    "Let's also define a learning rate scheduler, to gradually decrease the learning rate over time. This should help to increase classification accuracy while reducing overfitting."
   ]
  },
  {
   "cell_type": "code",
   "execution_count": 5,
   "metadata": {},
   "outputs": [],
   "source": [
    "# define training parameters\n",
    "epochs = 100\n",
    "init_lr = 1e-1\n",
    "opt = SGD(lr=init_lr, momentum=0.9)\n",
    "\n",
    "# learning rate decay function\n",
    "def poly_decay(epoch):\n",
    "    # initialize the maximum number of epochs, base learning rate, and power of the polynomial\n",
    "    maxEpochs = epochs\n",
    "    baseLR = init_lr\n",
    "    power = 1.0\n",
    "\n",
    "    # compute the new learning rate based on polynomial decay\n",
    "    alpha = baseLR * (1 - (epoch / float(maxEpochs))) ** power\n",
    "\n",
    "    # return the new learning rate\n",
    "    return alpha\n",
    "\n",
    "# define callback\n",
    "callbacks = [LearningRateScheduler(poly_decay)]"
   ]
  },
  {
   "cell_type": "markdown",
   "metadata": {},
   "source": [
    "Here we specify our desired ResNet architecture:\n",
    "- input dimensions of 32x32x3\n",
    "- 10 output classes\n",
    "- three stacks with nine residual modules each\n",
    "- 64 filters in the first CONV layer before the residual modules\n",
    "- 64, 128, and 256 filters in each residual module stack, respectively\n",
    "- L2 regularization of 0.0005"
   ]
  },
  {
   "cell_type": "code",
   "execution_count": 6,
   "metadata": {
    "scrolled": false
   },
   "outputs": [],
   "source": [
    "# define ResNet architecture \n",
    "model = ResNet.build(32, 32, 3, 10, (9, 9, 9), (64, 64, 128, 256), reg=0.0005)\n",
    "model.compile(loss='categorical_crossentropy', optimizer=opt, metrics=['accuracy'])\n",
    "\n",
    "# print the model summary\n",
    "#model.summary()"
   ]
  },
  {
   "cell_type": "markdown",
   "metadata": {},
   "source": [
    "Let's train our ResNet model for 100 epochs with the SGD optimizer, using our `poly_decay` function to decrease the $1e-1$ base learning rate linearly over the course of the training."
   ]
  },
  {
   "cell_type": "code",
   "execution_count": 7,
   "metadata": {},
   "outputs": [
    {
     "name": "stdout",
     "output_type": "stream",
     "text": [
      "ResNet model training started at: 2018-09-26 13:45:01.452006\n",
      "ResNet model training finished at: 2018-09-26 15:50:08.365482\n"
     ]
    }
   ],
   "source": [
    "# fit the model\n",
    "print('ResNet model training started at: {}'.format(str(datetime.now())))\n",
    "H = model.fit_generator(aug.flow(X_train, y_train, batch_size=128), \n",
    "                        validation_data=(X_test, y_test),\n",
    "                        steps_per_epoch=len(X_train) // 128, \n",
    "                        epochs=epochs,\n",
    "                        callbacks=callbacks,\n",
    "                        verbose=0)\n",
    "print('ResNet model training finished at: {}'.format(str(datetime.now())))"
   ]
  },
  {
   "cell_type": "code",
   "execution_count": 8,
   "metadata": {},
   "outputs": [
    {
     "data": {
      "image/png": "[encoded data removed]",
      "text/plain": [
       "<Figure size 432x432 with 1 Axes>"
      ]
     },
     "metadata": {
      "needs_background": "light"
     },
     "output_type": "display_data"
    },
    {
     "data": {
      "image/png": "[encoded data removed]",
      "text/plain": [
       "<Figure size 432x432 with 1 Axes>"
      ]
     },
     "metadata": {
      "needs_background": "light"
     },
     "output_type": "display_data"
    }
   ],
   "source": [
    "# plot model accuracy\n",
    "plt.figure(figsize=(6,6))\n",
    "plt.plot(H.history['acc'])\n",
    "plt.plot(H.history['val_acc'])\n",
    "plt.title('Model Accuracy')\n",
    "plt.ylabel('Accuracy')\n",
    "plt.xlabel('Epoch')\n",
    "plt.legend(['train','test'], loc='lower right')\n",
    "plt.show()\n",
    "\n",
    "# plot model loss\n",
    "plt.figure(figsize=(6,6))\n",
    "plt.plot(H.history['loss'])\n",
    "plt.plot(H.history['val_loss'])\n",
    "plt.title('Model Loss')\n",
    "plt.ylabel('Loss')\n",
    "plt.xlabel('Epoch')\n",
    "plt.legend(['train','test'], loc= 'upper right')\n",
    "plt.show()"
   ]
  },
  {
   "cell_type": "markdown",
   "metadata": {},
   "source": [
    "The accuracy and loss plots look good. Data augmentation, L2 regularization, and learning rate decay appear to have kept overfitting to a minimum.\n",
    "\n",
    "Finally, let's evaluate model accuracy on the test data."
   ]
  },
  {
   "cell_type": "code",
   "execution_count": 9,
   "metadata": {},
   "outputs": [
    {
     "name": "stdout",
     "output_type": "stream",
     "text": [
      "10000/10000 [==============================] - 6s 606us/step\n",
      "Accuracy on test data: 93.66%\n"
     ]
    }
   ],
   "source": [
    "# print accuracy on test data\n",
    "scores = model.evaluate(X_test, y_test, verbose=1)\n",
    "print('Accuracy on test data: {:.2f}%'.format(scores[1]*100))"
   ]
  },
  {
   "cell_type": "markdown",
   "metadata": {},
   "source": [
    "According to the [CIFAR-10 leaderboard](http://rodrigob.github.io/are_we_there_yet/build/classification_datasets_results.html#43494641522d3130), our score of 93.66% puts us in 7th position, just ahead of the original 2015 He _et al._ paper. Nice! :D \n",
    "\n",
    "<img src=\"images/results.jpg\">\n",
    "\n",
    "(Image credit: http://rodrigob.github.io/are_we_there_yet/build/classification_datasets_results.html#43494641522d3130)"
   ]
  }
 ],
 "metadata": {
  "kernelspec": {
   "display_name": "Python 3",
   "language": "python",
   "name": "python3"
  },
  "language_info": {
   "codemirror_mode": {
    "name": "ipython",
    "version": 3
   },
   "file_extension": ".py",
   "mimetype": "text/x-python",
   "name": "python",
   "nbconvert_exporter": "python",
   "pygments_lexer": "ipython3",
   "version": "3.6.8"
  }
 },
 "nbformat": 4,
 "nbformat_minor": 2
}
